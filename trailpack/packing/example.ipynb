{
 "cells": [
  {
   "cell_type": "code",
   "execution_count": 1,
   "id": "62f41d70-94d6-41cd-8247-f70a72354940",
   "metadata": {},
   "outputs": [],
   "source": [
    "from packing import Packing"
   ]
  },
  {
   "cell_type": "code",
   "execution_count": 2,
   "id": "069df2fe-8a5b-4df7-8395-3f175226ac0f",
   "metadata": {},
   "outputs": [],
   "source": [
    "from test_packing import df"
   ]
  },
  {
   "cell_type": "code",
   "execution_count": 3,
   "id": "c3131cc6-2d23-4dd1-8880-27f0d3a23d00",
   "metadata": {},
   "outputs": [
    {
     "data": {
      "application/vnd.microsoft.datawrangler.viewer.v0+json": {
       "columns": [
        {
         "name": "index",
         "rawType": "int64",
         "type": "integer"
        },
        {
         "name": "location",
         "rawType": "object",
         "type": "string"
        },
        {
         "name": "timestamp",
         "rawType": "datetime64[ns]",
         "type": "datetime"
        },
        {
         "name": "amount",
         "rawType": "int64",
         "type": "integer"
        }
       ],
       "ref": "b9f0472d-8f18-4a40-81a5-d0cdc6f631ae",
       "rows": [
        [
         "0",
         "New York",
         "2025-10-13 08:00:00",
         "4"
        ],
        [
         "1",
         "Berlin",
         "2025-10-13 09:30:00",
         "10"
        ],
        [
         "2",
         "Tokyo",
         "2025-10-13 11:15:00",
         "7"
        ]
       ],
       "shape": {
        "columns": 3,
        "rows": 3
       }
      },
      "text/html": [
       "<div>\n",
       "<style scoped>\n",
       "    .dataframe tbody tr th:only-of-type {\n",
       "        vertical-align: middle;\n",
       "    }\n",
       "\n",
       "    .dataframe tbody tr th {\n",
       "        vertical-align: top;\n",
       "    }\n",
       "\n",
       "    .dataframe thead th {\n",
       "        text-align: right;\n",
       "    }\n",
       "</style>\n",
       "<table border=\"1\" class=\"dataframe\">\n",
       "  <thead>\n",
       "    <tr style=\"text-align: right;\">\n",
       "      <th></th>\n",
       "      <th>location</th>\n",
       "      <th>timestamp</th>\n",
       "      <th>amount</th>\n",
       "    </tr>\n",
       "  </thead>\n",
       "  <tbody>\n",
       "    <tr>\n",
       "      <th>0</th>\n",
       "      <td>New York</td>\n",
       "      <td>2025-10-13 08:00:00</td>\n",
       "      <td>4</td>\n",
       "    </tr>\n",
       "    <tr>\n",
       "      <th>1</th>\n",
       "      <td>Berlin</td>\n",
       "      <td>2025-10-13 09:30:00</td>\n",
       "      <td>10</td>\n",
       "    </tr>\n",
       "    <tr>\n",
       "      <th>2</th>\n",
       "      <td>Tokyo</td>\n",
       "      <td>2025-10-13 11:15:00</td>\n",
       "      <td>7</td>\n",
       "    </tr>\n",
       "  </tbody>\n",
       "</table>\n",
       "</div>"
      ],
      "text/plain": [
       "   location           timestamp  amount\n",
       "0  New York 2025-10-13 08:00:00       4\n",
       "1    Berlin 2025-10-13 09:30:00      10\n",
       "2     Tokyo 2025-10-13 11:15:00       7"
      ]
     },
     "execution_count": 3,
     "metadata": {},
     "output_type": "execute_result"
    }
   ],
   "source": [
    "df"
   ]
  },
  {
   "cell_type": "markdown",
   "id": "493c0025",
   "metadata": {},
   "source": [
    "# Using DataPackage Schema Classes\n",
    "\n",
    "The new DataPackage schema classes provide a structured way to create metadata dictionaries with validation and UI-friendly field definitions."
   ]
  },
  {
   "cell_type": "code",
   "execution_count": 4,
   "id": "9fe4ca32",
   "metadata": {},
   "outputs": [],
   "source": [
    "# Import the new schema classes\n",
    "from datapackage_schema import (\n",
    "    MetaDataBuilder,\n",
    "    Resource, \n",
    "    Field, \n",
    "    FieldConstraints,\n",
    "    COMMON_LICENSES\n",
    ")"
   ]
  },
  {
   "cell_type": "markdown",
   "id": "0ed3608c",
   "metadata": {},
   "source": [
    "## Method 1: Using DataPackageBuilder (Recommended)\n",
    "\n",
    "The `DataPackageBuilder` provides a fluent interface for creating metadata step by step with built-in validation."
   ]
  },
  {
   "cell_type": "code",
   "execution_count": 5,
   "id": "c3b00a4b",
   "metadata": {},
   "outputs": [
    {
     "name": "stdout",
     "output_type": "stream",
     "text": [
      "Metadata created with MetaDataBuilder:\n",
      "Package name: sample-dataset\n",
      "Title: Sample Dataset with Schema Classes\n",
      "Keywords: ['example', 'schema', 'metadata', 'trailpack']\n",
      "License: CC-BY-4.0\n",
      "Contributors: 1\n",
      "Sources: 1\n"
     ]
    }
   ],
   "source": [
    "# Create metadata using the fluent builder interface\n",
    "builder_metadata = (MetaDataBuilder()\n",
    "    .set_basic_info(\n",
    "        name=\"sample-dataset\",\n",
    "        title=\"Sample Dataset with Schema Classes\", \n",
    "        description=\"This demonstrates creating metadata using the new schema classes\",\n",
    "        version=\"1.0.0\"\n",
    "    )\n",
    "    .set_profile(\"tabular-data-package\")\n",
    "    .set_keywords([\"example\", \"schema\", \"metadata\", \"trailpack\"])\n",
    "    .add_license()\n",
    "    \n",
    "    .add_contributor(\"Demo User\", \"author\", \"demo@example.com\")\n",
    "    .add_source(\"Sample Data Generator\", \"https://example.com/sample-data\")\n",
    "    .add_resource(Resource(\n",
    "        name=\"sample-data\",\n",
    "        path=\"data/sample-data.parquet\",\n",
    "        description=\"A sample dataset resource\",\n",
    "        fields=[\n",
    "            Field(name=\"location\", type=\"string\",constraints=FieldConstraints(required=True)),\n",
    "            Field(name=\"timestamp\", type=\"datetime\", constraints=FieldConstraints(required=True)),\n",
    "            Field(name=\"amount\", type=\"integer\", unit=\"kg\", constraints=FieldConstraints(minimum=0))\n",
    "        ]\n",
    "    )).build())\n",
    "\n",
    "print(\"Metadata created with MetaDataBuilder:\")\n",
    "print(f\"Package name: {builder_metadata['name']}\")\n",
    "print(f\"Title: {builder_metadata['title']}\")\n",
    "print(f\"Keywords: {builder_metadata['keywords']}\")\n",
    "print(f\"License: {builder_metadata['licenses'][0]['name']}\")\n",
    "print(f\"Contributors: {len(builder_metadata['contributors'])}\")\n",
    "print(f\"Sources: {len(builder_metadata['sources'])}\")"
   ]
  },
  {
   "cell_type": "code",
   "execution_count": 6,
   "id": "b43ac8ee",
   "metadata": {},
   "outputs": [
    {
     "data": {
      "text/plain": [
       "{'created': '2025-10-14T14:42:57.163840',\n",
       " 'name': 'sample-dataset',\n",
       " 'title': 'Sample Dataset with Schema Classes',\n",
       " 'description': 'This demonstrates creating metadata using the new schema classes',\n",
       " 'version': '1.0.0',\n",
       " 'profile': 'tabular-data-package',\n",
       " 'keywords': ['example', 'schema', 'metadata', 'trailpack'],\n",
       " 'licenses': [{'name': 'CC-BY-4.0',\n",
       "   'title': 'Creative Commons Attribution 4.0 International License',\n",
       "   'path': 'https://spdx.org/licenses/CC-BY-4.0.html'}],\n",
       " 'contributors': [{'name': 'Demo User',\n",
       "   'role': 'author',\n",
       "   'email': 'demo@example.com'}],\n",
       " 'sources': [{'title': 'Sample Data Generator',\n",
       "   'path': 'https://example.com/sample-data'}],\n",
       " 'resources': [{'name': 'sample-data',\n",
       "   'path': 'data/sample-data.parquet',\n",
       "   'description': 'A sample dataset resource',\n",
       "   'schema': {'fields': [{'name': 'location',\n",
       "      'type': 'string',\n",
       "      'constraints': {'required': True}},\n",
       "     {'name': 'timestamp',\n",
       "      'type': 'datetime',\n",
       "      'constraints': {'required': True}},\n",
       "     {'name': 'amount',\n",
       "      'type': 'integer',\n",
       "      'unit': 'kg',\n",
       "      'constraints': {'minimum': 0}}]}}]}"
      ]
     },
     "execution_count": 6,
     "metadata": {},
     "output_type": "execute_result"
    }
   ],
   "source": [
    "builder_metadata"
   ]
  },
  {
   "cell_type": "code",
   "execution_count": 7,
   "id": "c1dd570f",
   "metadata": {},
   "outputs": [],
   "source": [
    "tp = Packing(df, builder_metadata)\n",
    "tp.write_parquet('../../tests/data/example.parquet')"
   ]
  },
  {
   "cell_type": "code",
   "execution_count": 8,
   "id": "35ecc82c",
   "metadata": {},
   "outputs": [],
   "source": [
    "tp_empty = Packing()"
   ]
  },
  {
   "cell_type": "code",
   "execution_count": 9,
   "id": "52c8fb2b",
   "metadata": {},
   "outputs": [],
   "source": [
    "df_read, metadata_read = tp_empty.read_parquet('../../tests/data/example.parquet')"
   ]
  },
  {
   "cell_type": "code",
   "execution_count": 10,
   "id": "3b8540de",
   "metadata": {},
   "outputs": [
    {
     "data": {
      "application/vnd.microsoft.datawrangler.viewer.v0+json": {
       "columns": [
        {
         "name": "index",
         "rawType": "int64",
         "type": "integer"
        },
        {
         "name": "location",
         "rawType": "object",
         "type": "string"
        },
        {
         "name": "timestamp",
         "rawType": "datetime64[ns]",
         "type": "datetime"
        },
        {
         "name": "amount",
         "rawType": "int64",
         "type": "integer"
        }
       ],
       "ref": "91aca878-6433-4352-a79e-50cb3dc9c472",
       "rows": [
        [
         "0",
         "New York",
         "2025-10-13 08:00:00",
         "4"
        ],
        [
         "1",
         "Berlin",
         "2025-10-13 09:30:00",
         "10"
        ],
        [
         "2",
         "Tokyo",
         "2025-10-13 11:15:00",
         "7"
        ]
       ],
       "shape": {
        "columns": 3,
        "rows": 3
       }
      },
      "text/html": [
       "<div>\n",
       "<style scoped>\n",
       "    .dataframe tbody tr th:only-of-type {\n",
       "        vertical-align: middle;\n",
       "    }\n",
       "\n",
       "    .dataframe tbody tr th {\n",
       "        vertical-align: top;\n",
       "    }\n",
       "\n",
       "    .dataframe thead th {\n",
       "        text-align: right;\n",
       "    }\n",
       "</style>\n",
       "<table border=\"1\" class=\"dataframe\">\n",
       "  <thead>\n",
       "    <tr style=\"text-align: right;\">\n",
       "      <th></th>\n",
       "      <th>location</th>\n",
       "      <th>timestamp</th>\n",
       "      <th>amount</th>\n",
       "    </tr>\n",
       "  </thead>\n",
       "  <tbody>\n",
       "    <tr>\n",
       "      <th>0</th>\n",
       "      <td>New York</td>\n",
       "      <td>2025-10-13 08:00:00</td>\n",
       "      <td>4</td>\n",
       "    </tr>\n",
       "    <tr>\n",
       "      <th>1</th>\n",
       "      <td>Berlin</td>\n",
       "      <td>2025-10-13 09:30:00</td>\n",
       "      <td>10</td>\n",
       "    </tr>\n",
       "    <tr>\n",
       "      <th>2</th>\n",
       "      <td>Tokyo</td>\n",
       "      <td>2025-10-13 11:15:00</td>\n",
       "      <td>7</td>\n",
       "    </tr>\n",
       "  </tbody>\n",
       "</table>\n",
       "</div>"
      ],
      "text/plain": [
       "   location           timestamp  amount\n",
       "0  New York 2025-10-13 08:00:00       4\n",
       "1    Berlin 2025-10-13 09:30:00      10\n",
       "2     Tokyo 2025-10-13 11:15:00       7"
      ]
     },
     "execution_count": 10,
     "metadata": {},
     "output_type": "execute_result"
    }
   ],
   "source": [
    "df_read"
   ]
  },
  {
   "cell_type": "code",
   "execution_count": 11,
   "id": "980e3082",
   "metadata": {},
   "outputs": [],
   "source": [
    "\n",
    "import pandas as pd"
   ]
  },
  {
   "cell_type": "code",
   "execution_count": 12,
   "id": "0f0ea953",
   "metadata": {},
   "outputs": [],
   "source": [
    "df_read_2 = pd.read_parquet('../../tests/data/example.parquet')"
   ]
  },
  {
   "cell_type": "code",
   "execution_count": 13,
   "id": "51a05feb",
   "metadata": {},
   "outputs": [
    {
     "data": {
      "application/vnd.microsoft.datawrangler.viewer.v0+json": {
       "columns": [
        {
         "name": "index",
         "rawType": "int64",
         "type": "integer"
        },
        {
         "name": "location",
         "rawType": "object",
         "type": "string"
        },
        {
         "name": "timestamp",
         "rawType": "datetime64[ns]",
         "type": "datetime"
        },
        {
         "name": "amount",
         "rawType": "int64",
         "type": "integer"
        }
       ],
       "ref": "9d14f2e8-b429-434e-9f43-bc9df13829c1",
       "rows": [
        [
         "0",
         "New York",
         "2025-10-13 08:00:00",
         "4"
        ],
        [
         "1",
         "Berlin",
         "2025-10-13 09:30:00",
         "10"
        ],
        [
         "2",
         "Tokyo",
         "2025-10-13 11:15:00",
         "7"
        ]
       ],
       "shape": {
        "columns": 3,
        "rows": 3
       }
      },
      "text/html": [
       "<div>\n",
       "<style scoped>\n",
       "    .dataframe tbody tr th:only-of-type {\n",
       "        vertical-align: middle;\n",
       "    }\n",
       "\n",
       "    .dataframe tbody tr th {\n",
       "        vertical-align: top;\n",
       "    }\n",
       "\n",
       "    .dataframe thead th {\n",
       "        text-align: right;\n",
       "    }\n",
       "</style>\n",
       "<table border=\"1\" class=\"dataframe\">\n",
       "  <thead>\n",
       "    <tr style=\"text-align: right;\">\n",
       "      <th></th>\n",
       "      <th>location</th>\n",
       "      <th>timestamp</th>\n",
       "      <th>amount</th>\n",
       "    </tr>\n",
       "  </thead>\n",
       "  <tbody>\n",
       "    <tr>\n",
       "      <th>0</th>\n",
       "      <td>New York</td>\n",
       "      <td>2025-10-13 08:00:00</td>\n",
       "      <td>4</td>\n",
       "    </tr>\n",
       "    <tr>\n",
       "      <th>1</th>\n",
       "      <td>Berlin</td>\n",
       "      <td>2025-10-13 09:30:00</td>\n",
       "      <td>10</td>\n",
       "    </tr>\n",
       "    <tr>\n",
       "      <th>2</th>\n",
       "      <td>Tokyo</td>\n",
       "      <td>2025-10-13 11:15:00</td>\n",
       "      <td>7</td>\n",
       "    </tr>\n",
       "  </tbody>\n",
       "</table>\n",
       "</div>"
      ],
      "text/plain": [
       "   location           timestamp  amount\n",
       "0  New York 2025-10-13 08:00:00       4\n",
       "1    Berlin 2025-10-13 09:30:00      10\n",
       "2     Tokyo 2025-10-13 11:15:00       7"
      ]
     },
     "execution_count": 13,
     "metadata": {},
     "output_type": "execute_result"
    }
   ],
   "source": [
    "df_read_2"
   ]
  },
  {
   "cell_type": "code",
   "execution_count": 14,
   "id": "71b14da5",
   "metadata": {},
   "outputs": [],
   "source": [
    "import pyarrow as pa\n",
    "import pyarrow.parquet as pq"
   ]
  },
  {
   "cell_type": "code",
   "execution_count": 15,
   "id": "11b3ae83",
   "metadata": {},
   "outputs": [],
   "source": [
    "metadata = pq.read_table('../../tests/data/example.parquet').schema.metadata[b\"datapackage.json\"].decode('utf-8')"
   ]
  },
  {
   "cell_type": "code",
   "execution_count": 16,
   "id": "f30dd945",
   "metadata": {},
   "outputs": [],
   "source": [
    "import json"
   ]
  },
  {
   "cell_type": "code",
   "execution_count": 17,
   "id": "14ba6c04",
   "metadata": {},
   "outputs": [
    {
     "data": {
      "text/plain": [
       "{'created': '2025-10-14T14:42:57.163840',\n",
       " 'name': 'sample-dataset',\n",
       " 'title': 'Sample Dataset with Schema Classes',\n",
       " 'description': 'This demonstrates creating metadata using the new schema classes',\n",
       " 'version': '1.0.0',\n",
       " 'profile': 'tabular-data-package',\n",
       " 'keywords': ['example', 'schema', 'metadata', 'trailpack'],\n",
       " 'licenses': [{'name': 'CC-BY-4.0',\n",
       "   'title': 'Creative Commons Attribution 4.0 International License',\n",
       "   'path': 'https://spdx.org/licenses/CC-BY-4.0.html'}],\n",
       " 'contributors': [{'name': 'Demo User',\n",
       "   'role': 'author',\n",
       "   'email': 'demo@example.com'}],\n",
       " 'sources': [{'title': 'Sample Data Generator',\n",
       "   'path': 'https://example.com/sample-data'}],\n",
       " 'resources': [{'name': 'sample-data',\n",
       "   'path': 'data/sample-data.parquet',\n",
       "   'description': 'A sample dataset resource',\n",
       "   'schema': {'fields': [{'name': 'location',\n",
       "      'type': 'string',\n",
       "      'constraints': {'required': True}},\n",
       "     {'name': 'timestamp',\n",
       "      'type': 'datetime',\n",
       "      'constraints': {'required': True}},\n",
       "     {'name': 'amount',\n",
       "      'type': 'integer',\n",
       "      'unit': 'kg',\n",
       "      'constraints': {'minimum': 0}}]}}]}"
      ]
     },
     "execution_count": 17,
     "metadata": {},
     "output_type": "execute_result"
    }
   ],
   "source": [
    "json.loads(metadata)"
   ]
  },
  {
   "cell_type": "code",
   "execution_count": 18,
   "id": "4219bb46",
   "metadata": {},
   "outputs": [],
   "source": [
    "import datetime"
   ]
  },
  {
   "cell_type": "code",
   "execution_count": 19,
   "id": "0b3314b9",
   "metadata": {},
   "outputs": [
    {
     "data": {
      "text/plain": [
       "'2025-10-14T14:42:57.289867'"
      ]
     },
     "execution_count": 19,
     "metadata": {},
     "output_type": "execute_result"
    }
   ],
   "source": [
    "datetime.datetime.now().isoformat()"
   ]
  },
  {
   "cell_type": "code",
   "execution_count": null,
   "id": "c2f7001d",
   "metadata": {},
   "outputs": [],
   "source": []
  }
 ],
 "metadata": {
  "kernelspec": {
   "display_name": "hackathon",
   "language": "python",
   "name": "python3"
  },
  "language_info": {
   "codemirror_mode": {
    "name": "ipython",
    "version": 3
   },
   "file_extension": ".py",
   "mimetype": "text/x-python",
   "name": "python",
   "nbconvert_exporter": "python",
   "pygments_lexer": "ipython3",
   "version": "3.13.7"
  }
 },
 "nbformat": 4,
 "nbformat_minor": 5
}
