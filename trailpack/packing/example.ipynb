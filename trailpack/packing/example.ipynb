{
 "cells": [
  {
   "cell_type": "code",
   "execution_count": 1,
   "id": "62f41d70-94d6-41cd-8247-f70a72354940",
   "metadata": {},
   "outputs": [],
   "source": [
    "from packing import Packing"
   ]
  },
  {
   "cell_type": "code",
   "execution_count": 2,
   "id": "069df2fe-8a5b-4df7-8395-3f175226ac0f",
   "metadata": {},
   "outputs": [],
   "source": [
    "from test_packing import df, metadata"
   ]
  },
  {
   "cell_type": "code",
   "execution_count": 3,
   "id": "c3131cc6-2d23-4dd1-8880-27f0d3a23d00",
   "metadata": {},
   "outputs": [
    {
     "data": {
      "text/html": [
       "<div>\n",
       "<style scoped>\n",
       "    .dataframe tbody tr th:only-of-type {\n",
       "        vertical-align: middle;\n",
       "    }\n",
       "\n",
       "    .dataframe tbody tr th {\n",
       "        vertical-align: top;\n",
       "    }\n",
       "\n",
       "    .dataframe thead th {\n",
       "        text-align: right;\n",
       "    }\n",
       "</style>\n",
       "<table border=\"1\" class=\"dataframe\">\n",
       "  <thead>\n",
       "    <tr style=\"text-align: right;\">\n",
       "      <th></th>\n",
       "      <th>location</th>\n",
       "      <th>timestamp</th>\n",
       "      <th>amount</th>\n",
       "    </tr>\n",
       "  </thead>\n",
       "  <tbody>\n",
       "    <tr>\n",
       "      <th>0</th>\n",
       "      <td>New York</td>\n",
       "      <td>2025-10-13 08:00:00</td>\n",
       "      <td>4</td>\n",
       "    </tr>\n",
       "    <tr>\n",
       "      <th>1</th>\n",
       "      <td>Berlin</td>\n",
       "      <td>2025-10-13 09:30:00</td>\n",
       "      <td>10</td>\n",
       "    </tr>\n",
       "    <tr>\n",
       "      <th>2</th>\n",
       "      <td>Tokyo</td>\n",
       "      <td>2025-10-13 11:15:00</td>\n",
       "      <td>5</td>\n",
       "    </tr>\n",
       "  </tbody>\n",
       "</table>\n",
       "</div>"
      ],
      "text/plain": [
       "   location           timestamp  amount\n",
       "0  New York 2025-10-13 08:00:00       4\n",
       "1    Berlin 2025-10-13 09:30:00      10\n",
       "2     Tokyo 2025-10-13 11:15:00       5"
      ]
     },
     "execution_count": 3,
     "metadata": {},
     "output_type": "execute_result"
    }
   ],
   "source": [
    "df"
   ]
  },
  {
   "cell_type": "code",
   "execution_count": 4,
   "id": "5745ba64-afdd-430b-bbeb-5fa9c91cc05d",
   "metadata": {},
   "outputs": [
    {
     "data": {
      "text/plain": [
       "{'name': 'example-datapackage',\n",
       " 'title': 'Example Data Package',\n",
       " 'licenses': [{'name': 'CC-BY-4.0',\n",
       "   'title': 'Creative Commons Attribution 4.0',\n",
       "   'path': 'https://creativecommons.org/licenses/by/4.0/'}],\n",
       " 'resources': [{'name': 'data',\n",
       "   'path': 'data.csv',\n",
       "   'schema': {'fields': [{'name': 'location',\n",
       "      'type': 'string',\n",
       "      'unit': 'geolocation',\n",
       "      'unit_uri': '',\n",
       "      'name_uri': ''},\n",
       "     {'name': 'timestamp',\n",
       "      'type': 'datetime',\n",
       "      'unit': 'datetime format',\n",
       "      'unit_uri': '',\n",
       "      'name_uri': ''},\n",
       "     {'name': 'amount',\n",
       "      'type': 'integer',\n",
       "      'unit': 'kilogram',\n",
       "      'unit_uri': '',\n",
       "      'name_uri': ''}]}}]}"
      ]
     },
     "execution_count": 4,
     "metadata": {},
     "output_type": "execute_result"
    }
   ],
   "source": [
    "metadata"
   ]
  },
  {
   "cell_type": "code",
   "execution_count": 5,
   "id": "daf516a7-1611-44e4-98a3-9cfb78e96ba8",
   "metadata": {},
   "outputs": [],
   "source": [
    "tp = Packing(df, metadata)\n",
    "tp.write_parquet('../../tests/data/example.parquet')"
   ]
  },
  {
   "cell_type": "code",
   "execution_count": 6,
   "id": "f8ee3f79-4a38-492c-8c41-1a8dfb650aae",
   "metadata": {},
   "outputs": [],
   "source": [
    "tp_empty = Packing()"
   ]
  },
  {
   "cell_type": "code",
   "execution_count": 7,
   "id": "6772aad9-c93b-4629-911c-431b95ded366",
   "metadata": {},
   "outputs": [],
   "source": [
    "df_read, metadata_read = tp_empty.read_parquet('../../tests/data/example.parquet')"
   ]
  },
  {
   "cell_type": "code",
   "execution_count": 8,
   "id": "569c8a08-6cfe-42fb-8f90-34f48af6b4d5",
   "metadata": {},
   "outputs": [
    {
     "data": {
      "text/html": [
       "<div>\n",
       "<style scoped>\n",
       "    .dataframe tbody tr th:only-of-type {\n",
       "        vertical-align: middle;\n",
       "    }\n",
       "\n",
       "    .dataframe tbody tr th {\n",
       "        vertical-align: top;\n",
       "    }\n",
       "\n",
       "    .dataframe thead th {\n",
       "        text-align: right;\n",
       "    }\n",
       "</style>\n",
       "<table border=\"1\" class=\"dataframe\">\n",
       "  <thead>\n",
       "    <tr style=\"text-align: right;\">\n",
       "      <th></th>\n",
       "      <th>location</th>\n",
       "      <th>timestamp</th>\n",
       "      <th>amount</th>\n",
       "    </tr>\n",
       "  </thead>\n",
       "  <tbody>\n",
       "    <tr>\n",
       "      <th>0</th>\n",
       "      <td>New York</td>\n",
       "      <td>2025-10-13 08:00:00</td>\n",
       "      <td>4</td>\n",
       "    </tr>\n",
       "    <tr>\n",
       "      <th>1</th>\n",
       "      <td>Berlin</td>\n",
       "      <td>2025-10-13 09:30:00</td>\n",
       "      <td>10</td>\n",
       "    </tr>\n",
       "    <tr>\n",
       "      <th>2</th>\n",
       "      <td>Tokyo</td>\n",
       "      <td>2025-10-13 11:15:00</td>\n",
       "      <td>5</td>\n",
       "    </tr>\n",
       "  </tbody>\n",
       "</table>\n",
       "</div>"
      ],
      "text/plain": [
       "   location           timestamp  amount\n",
       "0  New York 2025-10-13 08:00:00       4\n",
       "1    Berlin 2025-10-13 09:30:00      10\n",
       "2     Tokyo 2025-10-13 11:15:00       5"
      ]
     },
     "execution_count": 8,
     "metadata": {},
     "output_type": "execute_result"
    }
   ],
   "source": [
    "df_read"
   ]
  },
  {
   "cell_type": "code",
   "execution_count": 9,
   "id": "53fa4a79-1242-4ee0-b723-a7e8bd8eb888",
   "metadata": {},
   "outputs": [
    {
     "data": {
      "text/plain": [
       "{'name': 'example-datapackage',\n",
       " 'title': 'Example Data Package',\n",
       " 'licenses': [{'name': 'CC-BY-4.0',\n",
       "   'title': 'Creative Commons Attribution 4.0',\n",
       "   'path': 'https://creativecommons.org/licenses/by/4.0/'}],\n",
       " 'resources': [{'name': 'data',\n",
       "   'path': 'data.csv',\n",
       "   'schema': {'fields': [{'name': 'location',\n",
       "      'type': 'string',\n",
       "      'unit': 'geolocation',\n",
       "      'unit_uri': '',\n",
       "      'name_uri': ''},\n",
       "     {'name': 'timestamp',\n",
       "      'type': 'datetime',\n",
       "      'unit': 'datetime format',\n",
       "      'unit_uri': '',\n",
       "      'name_uri': ''},\n",
       "     {'name': 'amount',\n",
       "      'type': 'integer',\n",
       "      'unit': 'kilogram',\n",
       "      'unit_uri': '',\n",
       "      'name_uri': ''}]}}]}"
      ]
     },
     "execution_count": 9,
     "metadata": {},
     "output_type": "execute_result"
    }
   ],
   "source": [
    "metadata_read"
   ]
  },
  {
   "cell_type": "code",
   "execution_count": null,
   "id": "2e12553a-a6c3-464f-92eb-3a59030a7e0e",
   "metadata": {},
   "outputs": [],
   "source": []
  },
  {
   "cell_type": "code",
   "execution_count": null,
   "id": "0dd47512-5321-4202-8e9d-745d1f0f5d33",
   "metadata": {},
   "outputs": [],
   "source": []
  },
  {
   "cell_type": "code",
   "execution_count": null,
   "id": "2d6cb2ee-e851-4038-83de-7c337bab3acb",
   "metadata": {},
   "outputs": [],
   "source": []
  }
 ],
 "metadata": {
  "kernelspec": {
   "display_name": "Python 3 (ipykernel)",
   "language": "python",
   "name": "python3"
  },
  "language_info": {
   "codemirror_mode": {
    "name": "ipython",
    "version": 3
   },
   "file_extension": ".py",
   "mimetype": "text/x-python",
   "name": "python",
   "nbconvert_exporter": "python",
   "pygments_lexer": "ipython3",
   "version": "3.11.14"
  }
 },
 "nbformat": 4,
 "nbformat_minor": 5
}
